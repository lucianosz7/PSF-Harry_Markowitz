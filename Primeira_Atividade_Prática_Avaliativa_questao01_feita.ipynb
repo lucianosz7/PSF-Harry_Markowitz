{
 "cells": [
  {
   "cell_type": "code",
   "execution_count": null,
   "metadata": {
    "id": "VVOxNTJvXUJw"
   },
   "outputs": [],
   "source": []
  },
  {
   "cell_type": "markdown",
   "metadata": {
    "id": "d5h8K0H6XUJy"
   },
   "source": [
    "<img src=\"https://www.dropbox.com/s/l93ecugg1jbtjiw/fga.png?raw=1\" width=\"1200\" height=\"400\">\n",
    "<ul>\n",
    "    <li> <b>Campus UnB Gama</b> </li>\n",
    "    <li> <b>Disciplina: Processamento Digital de Sinais Financeiros</b> </li>\n",
    "    <a href=\"https://www.linkedin.com/in/marcelino-andrade-b164b369/\">\n",
    "    <li> <b>Prof. Marcelino Monteiro de Andrade Dr.</b> </li>\n",
    "</ul>\n",
    "\n",
    "\n",
    "    Primeira (1/3) Atividade Prática Avaliativa\n",
    "    Entrega da Atividade 27/07/2022 \n",
    "    \"A não entrega na data esperada reduz em 50% na nota da avaliação\""
   ]
  },
  {
   "cell_type": "markdown",
   "metadata": {
    "id": "9LRMktRvXUJ2"
   },
   "source": [
    "\n",
    "<div id=\"Tópicos\">\n",
    "    <h2>Questões</h2>\n",
    "</div>\n",
    "\n",
    "\n",
    "<div class=\"alert alert-block alert-info\" style=\"margin-top: 20px\">\n",
    "<ol> \n",
    "<li> Colete os preços e volumes de um conjunto de ativos durante o período de 10 (quinze) anos, pertencentes a no mínimo 5 (cinco) Índices de Segmentos e Setoriais diferentes na B3, e separe os 30 (cinquenta) ativos mais líquidos; </li><p></p>\n",
    "    <li> Construa amostras de treinamento e outras de teste, sendo a primeira com os 3 (três) anos e a segunda com o último ano, e desloque as janelas anualmente (walk forward analysis); </li> <p></p>\n",
    "    <li> Na amostra de treinamento, aplique uma clusterização não supervisionada (K-Means ou DBSCAN) e separe um ativo para cada clusters, com o critério que desejar (sugestão maior índice Sharpe); </li><p></p>\n",
    "    <li> Aplique a Teoria do Portfolio Moderno de Markowitz nos ativos escolhidos no passo anterior, no sentido de alocar um capital de R$100.000,00; </li><p></p>\n",
    "    <li> Verifique o resultado da alocação de capital com Markowitz nos ativos separados, na fase de treinamento, na amostra de teste que representa o último ano da aquisição e compare com o índice Bovespa; </li><p></p>\n",
    "    <li> Descreva suas impressores relativas ao processo, baseado em números, e resultados encontrados. </li>\n",
    "</ol>\n",
    "</div>\n"
   ]
  },
  {
   "cell_type": "markdown",
   "metadata": {
    "id": "_pTtKujJXUJ3"
   },
   "source": [
    "### Questão 1: "
   ]
  },
  {
   "cell_type": "markdown",
   "metadata": {
    "id": "6qN699DpdDiP"
   },
   "source": [
    "# Extração\n",
    "As ações utilizadas para a análise foram extraidas de forma geral de um próprio site da b3 que pode ser encontrado <a href=\"https://www.b3.com.br/pt_br/market-data-e-indices/indices/acoes-por-indice/\" target=\"_top\">aqui</a>. Para a reprodução do método utilizado, basta baixar a planilha, e efetuar as análises conforme demonstrado abaixo"
   ]
  },
  {
   "cell_type": "code",
   "execution_count": 1,
   "metadata": {},
   "outputs": [
    {
     "name": "stdout",
     "output_type": "stream",
     "text": [
      "Requirement already satisfied: pandas in c:\\users\\aldob\\anaconda3\\lib\\site-packages (1.4.2)\n",
      "Requirement already satisfied: python-dateutil>=2.8.1 in c:\\users\\aldob\\anaconda3\\lib\\site-packages (from pandas) (2.8.2)\n",
      "Requirement already satisfied: numpy>=1.18.5 in c:\\users\\aldob\\anaconda3\\lib\\site-packages (from pandas) (1.21.5)\n",
      "Requirement already satisfied: pytz>=2020.1 in c:\\users\\aldob\\anaconda3\\lib\\site-packages (from pandas) (2021.3)\n",
      "Requirement already satisfied: six>=1.5 in c:\\users\\aldob\\anaconda3\\lib\\site-packages (from python-dateutil>=2.8.1->pandas) (1.16.0)\n",
      "Collecting investpy\n",
      "  Downloading investpy-1.0.8.tar.gz (4.4 MB)\n",
      "Requirement already satisfied: Unidecode>=1.1.1 in c:\\users\\aldob\\anaconda3\\lib\\site-packages (from investpy) (1.2.0)\n",
      "Requirement already satisfied: setuptools>=41.2.0 in c:\\users\\aldob\\anaconda3\\lib\\site-packages (from investpy) (61.2.0)\n",
      "Requirement already satisfied: numpy>=1.17.2 in c:\\users\\aldob\\anaconda3\\lib\\site-packages (from investpy) (1.21.5)\n",
      "Requirement already satisfied: pandas>=0.25.1 in c:\\users\\aldob\\anaconda3\\lib\\site-packages (from investpy) (1.4.2)\n",
      "Requirement already satisfied: lxml>=4.4.1 in c:\\users\\aldob\\anaconda3\\lib\\site-packages (from investpy) (4.8.0)\n",
      "Requirement already satisfied: requests>=2.22.0 in c:\\users\\aldob\\anaconda3\\lib\\site-packages (from investpy) (2.27.1)\n",
      "Requirement already satisfied: pytz>=2019.3 in c:\\users\\aldob\\anaconda3\\lib\\site-packages (from investpy) (2021.3)\n",
      "Requirement already satisfied: python-dateutil>=2.8.1 in c:\\users\\aldob\\anaconda3\\lib\\site-packages (from pandas>=0.25.1->investpy) (2.8.2)\n",
      "Requirement already satisfied: six>=1.5 in c:\\users\\aldob\\anaconda3\\lib\\site-packages (from python-dateutil>=2.8.1->pandas>=0.25.1->investpy) (1.16.0)\n",
      "Requirement already satisfied: urllib3<1.27,>=1.21.1 in c:\\users\\aldob\\anaconda3\\lib\\site-packages (from requests>=2.22.0->investpy) (1.26.9)\n",
      "Requirement already satisfied: charset-normalizer~=2.0.0 in c:\\users\\aldob\\anaconda3\\lib\\site-packages (from requests>=2.22.0->investpy) (2.0.4)\n",
      "Requirement already satisfied: idna<4,>=2.5 in c:\\users\\aldob\\anaconda3\\lib\\site-packages (from requests>=2.22.0->investpy) (3.3)\n",
      "Requirement already satisfied: certifi>=2017.4.17 in c:\\users\\aldob\\anaconda3\\lib\\site-packages (from requests>=2.22.0->investpy) (2021.10.8)\n",
      "Building wheels for collected packages: investpy\n",
      "  Building wheel for investpy (setup.py): started\n",
      "  Building wheel for investpy (setup.py): finished with status 'done'\n",
      "  Created wheel for investpy: filename=investpy-1.0.8-py3-none-any.whl size=4481591 sha256=6c9c14b8e61ff7e657ff2289a58991b8d10f996b1dd251e5484afa3ec5b3c641\n",
      "  Stored in directory: c:\\users\\aldob\\appdata\\local\\pip\\cache\\wheels\\76\\6f\\f7\\f6e7537383423f10d7b89c1fca4ad9b6beeb3085338b920a8e\n",
      "Successfully built investpy\n",
      "Installing collected packages: investpy\n",
      "Successfully installed investpy-1.0.8\n",
      "Requirement already satisfied: seaborn in c:\\users\\aldob\\anaconda3\\lib\\site-packages (0.11.2)\n",
      "Requirement already satisfied: pandas>=0.23 in c:\\users\\aldob\\anaconda3\\lib\\site-packages (from seaborn) (1.4.2)\n",
      "Requirement already satisfied: matplotlib>=2.2 in c:\\users\\aldob\\anaconda3\\lib\\site-packages (from seaborn) (3.5.1)\n",
      "Requirement already satisfied: scipy>=1.0 in c:\\users\\aldob\\anaconda3\\lib\\site-packages (from seaborn) (1.7.3)\n",
      "Requirement already satisfied: numpy>=1.15 in c:\\users\\aldob\\anaconda3\\lib\\site-packages (from seaborn) (1.21.5)\n",
      "Requirement already satisfied: fonttools>=4.22.0 in c:\\users\\aldob\\anaconda3\\lib\\site-packages (from matplotlib>=2.2->seaborn) (4.25.0)\n",
      "Requirement already satisfied: pillow>=6.2.0 in c:\\users\\aldob\\anaconda3\\lib\\site-packages (from matplotlib>=2.2->seaborn) (9.0.1)\n",
      "Requirement already satisfied: python-dateutil>=2.7 in c:\\users\\aldob\\anaconda3\\lib\\site-packages (from matplotlib>=2.2->seaborn) (2.8.2)\n",
      "Requirement already satisfied: pyparsing>=2.2.1 in c:\\users\\aldob\\anaconda3\\lib\\site-packages (from matplotlib>=2.2->seaborn) (3.0.4)\n",
      "Requirement already satisfied: packaging>=20.0 in c:\\users\\aldob\\anaconda3\\lib\\site-packages (from matplotlib>=2.2->seaborn) (21.3)\n",
      "Requirement already satisfied: cycler>=0.10 in c:\\users\\aldob\\anaconda3\\lib\\site-packages (from matplotlib>=2.2->seaborn) (0.11.0)\n",
      "Requirement already satisfied: kiwisolver>=1.0.1 in c:\\users\\aldob\\anaconda3\\lib\\site-packages (from matplotlib>=2.2->seaborn) (1.3.2)\n",
      "Requirement already satisfied: pytz>=2020.1 in c:\\users\\aldob\\anaconda3\\lib\\site-packages (from pandas>=0.23->seaborn) (2021.3)\n",
      "Requirement already satisfied: six>=1.5 in c:\\users\\aldob\\anaconda3\\lib\\site-packages (from python-dateutil>=2.7->matplotlib>=2.2->seaborn) (1.16.0)\n",
      "Requirement already satisfied: lxml in c:\\users\\aldob\\anaconda3\\lib\\site-packages (4.8.0)\n",
      "Collecting html5lib\n",
      "  Downloading html5lib-1.1-py2.py3-none-any.whl (112 kB)\n",
      "Requirement already satisfied: six>=1.9 in c:\\users\\aldob\\anaconda3\\lib\\site-packages (from html5lib) (1.16.0)\n",
      "Requirement already satisfied: webencodings in c:\\users\\aldob\\anaconda3\\lib\\site-packages (from html5lib) (0.5.1)\n",
      "Installing collected packages: html5lib\n",
      "Successfully installed html5lib-1.1\n",
      "Requirement already satisfied: tqdm in c:\\users\\aldob\\anaconda3\\lib\\site-packages (4.64.0)\n",
      "Requirement already satisfied: colorama in c:\\users\\aldob\\anaconda3\\lib\\site-packages (from tqdm) (0.4.4)\n",
      "Collecting pandas_datareader\n",
      "  Downloading pandas_datareader-0.10.0-py3-none-any.whl (109 kB)\n",
      "Requirement already satisfied: requests>=2.19.0 in c:\\users\\aldob\\anaconda3\\lib\\site-packages (from pandas_datareader) (2.27.1)\n",
      "Requirement already satisfied: pandas>=0.23 in c:\\users\\aldob\\anaconda3\\lib\\site-packages (from pandas_datareader) (1.4.2)\n",
      "Requirement already satisfied: lxml in c:\\users\\aldob\\anaconda3\\lib\\site-packages (from pandas_datareader) (4.8.0)\n",
      "Requirement already satisfied: pytz>=2020.1 in c:\\users\\aldob\\anaconda3\\lib\\site-packages (from pandas>=0.23->pandas_datareader) (2021.3)\n",
      "Requirement already satisfied: python-dateutil>=2.8.1 in c:\\users\\aldob\\anaconda3\\lib\\site-packages (from pandas>=0.23->pandas_datareader) (2.8.2)\n",
      "Requirement already satisfied: numpy>=1.18.5 in c:\\users\\aldob\\anaconda3\\lib\\site-packages (from pandas>=0.23->pandas_datareader) (1.21.5)\n",
      "Requirement already satisfied: six>=1.5 in c:\\users\\aldob\\anaconda3\\lib\\site-packages (from python-dateutil>=2.8.1->pandas>=0.23->pandas_datareader) (1.16.0)\n",
      "Requirement already satisfied: certifi>=2017.4.17 in c:\\users\\aldob\\anaconda3\\lib\\site-packages (from requests>=2.19.0->pandas_datareader) (2021.10.8)\n",
      "Requirement already satisfied: charset-normalizer~=2.0.0 in c:\\users\\aldob\\anaconda3\\lib\\site-packages (from requests>=2.19.0->pandas_datareader) (2.0.4)\n",
      "Requirement already satisfied: urllib3<1.27,>=1.21.1 in c:\\users\\aldob\\anaconda3\\lib\\site-packages (from requests>=2.19.0->pandas_datareader) (1.26.9)\n",
      "Requirement already satisfied: idna<4,>=2.5 in c:\\users\\aldob\\anaconda3\\lib\\site-packages (from requests>=2.19.0->pandas_datareader) (3.3)\n",
      "Installing collected packages: pandas-datareader\n",
      "Successfully installed pandas-datareader-0.10.0\n"
     ]
    }
   ],
   "source": [
    "!pip install pandas\n",
    "!pip install investpy\n",
    "!pip install seaborn\n",
    "!pip install lxml\n",
    "!pip install html5lib\n",
    "!pip install tqdm\n",
    "!pip install pandas_datareader"
   ]
  },
  {
   "cell_type": "code",
   "execution_count": 2,
   "metadata": {
    "id": "jBNxJIJQXUJ4"
   },
   "outputs": [],
   "source": [
    "import pandas as pd\n",
    "import numpy as np\n",
    "import seaborn as sns\n",
    "import matplotlib.pyplot as plt\n",
    "import random as rd"
   ]
  },
  {
   "cell_type": "code",
   "execution_count": 3,
   "metadata": {
    "colab": {
     "base_uri": "https://localhost:8080/",
     "height": 328
    },
    "id": "amNOCEhyeHDp",
    "outputId": "a8313109-8447-47aa-c48c-a5d609999507"
   },
   "outputs": [
    {
     "data": {
      "text/html": [
       "<div>\n",
       "<style scoped>\n",
       "    .dataframe tbody tr th:only-of-type {\n",
       "        vertical-align: middle;\n",
       "    }\n",
       "\n",
       "    .dataframe tbody tr th {\n",
       "        vertical-align: top;\n",
       "    }\n",
       "\n",
       "    .dataframe thead th {\n",
       "        text-align: right;\n",
       "    }\n",
       "</style>\n",
       "<table border=\"1\" class=\"dataframe\">\n",
       "  <thead>\n",
       "    <tr style=\"text-align: right;\">\n",
       "      <th></th>\n",
       "      <th>Empresa</th>\n",
       "      <th>Codigo</th>\n",
       "      <th>indices dos quais participa</th>\n",
       "    </tr>\n",
       "  </thead>\n",
       "  <tbody>\n",
       "    <tr>\n",
       "      <th>0</th>\n",
       "      <td>3M</td>\n",
       "      <td>MMMC34</td>\n",
       "      <td>BDRX</td>\n",
       "    </tr>\n",
       "    <tr>\n",
       "      <th>1</th>\n",
       "      <td>3R PETROLEUM</td>\n",
       "      <td>RRRP3</td>\n",
       "      <td>IBOV,IBRA,IBXX,IGCT,IGCX,IGNM,ITAG,IVBX,SMLL</td>\n",
       "    </tr>\n",
       "    <tr>\n",
       "      <th>2</th>\n",
       "      <td>3TENTOS</td>\n",
       "      <td>TTEN3</td>\n",
       "      <td>AGFS,IBRA,ICON,IGCT,IGCX,IGNM,ITAG,SMLL</td>\n",
       "    </tr>\n",
       "    <tr>\n",
       "      <th>3</th>\n",
       "      <td>AB INBEV</td>\n",
       "      <td>ABUD34</td>\n",
       "      <td>BDRX</td>\n",
       "    </tr>\n",
       "    <tr>\n",
       "      <th>4</th>\n",
       "      <td>ABB LTD</td>\n",
       "      <td>A1BB34</td>\n",
       "      <td>BDRX</td>\n",
       "    </tr>\n",
       "  </tbody>\n",
       "</table>\n",
       "</div>"
      ],
      "text/plain": [
       "        Empresa  Codigo                   indices dos quais participa\n",
       "0            3M  MMMC34                                          BDRX\n",
       "1  3R PETROLEUM   RRRP3  IBOV,IBRA,IBXX,IGCT,IGCX,IGNM,ITAG,IVBX,SMLL\n",
       "2       3TENTOS   TTEN3       AGFS,IBRA,ICON,IGCT,IGCX,IGNM,ITAG,SMLL\n",
       "3      AB INBEV  ABUD34                                          BDRX\n",
       "4       ABB LTD  A1BB34                                          BDRX"
      ]
     },
     "execution_count": 3,
     "metadata": {},
     "output_type": "execute_result"
    }
   ],
   "source": [
    "stock_based_on_index = pd.read_csv('AcoesPorIndice.csv',sep=\";\")\n",
    "stock_based_on_index.head()"
   ]
  },
  {
   "cell_type": "code",
   "execution_count": 4,
   "metadata": {
    "id": "kOfb5ZFCfU3w"
   },
   "outputs": [
    {
     "data": {
      "text/html": [
       "<div>\n",
       "<style scoped>\n",
       "    .dataframe tbody tr th:only-of-type {\n",
       "        vertical-align: middle;\n",
       "    }\n",
       "\n",
       "    .dataframe tbody tr th {\n",
       "        vertical-align: top;\n",
       "    }\n",
       "\n",
       "    .dataframe thead th {\n",
       "        text-align: right;\n",
       "    }\n",
       "</style>\n",
       "<table border=\"1\" class=\"dataframe\">\n",
       "  <thead>\n",
       "    <tr style=\"text-align: right;\">\n",
       "      <th></th>\n",
       "      <th>Codigo</th>\n",
       "      <th>indices dos quais participa</th>\n",
       "    </tr>\n",
       "  </thead>\n",
       "  <tbody>\n",
       "    <tr>\n",
       "      <th>0</th>\n",
       "      <td>MMMC34</td>\n",
       "      <td>BDRX</td>\n",
       "    </tr>\n",
       "    <tr>\n",
       "      <th>1</th>\n",
       "      <td>RRRP3</td>\n",
       "      <td>IBOV,IBRA,IBXX,IGCT,IGCX,IGNM,ITAG,IVBX,SMLL</td>\n",
       "    </tr>\n",
       "    <tr>\n",
       "      <th>2</th>\n",
       "      <td>TTEN3</td>\n",
       "      <td>AGFS,IBRA,ICON,IGCT,IGCX,IGNM,ITAG,SMLL</td>\n",
       "    </tr>\n",
       "    <tr>\n",
       "      <th>3</th>\n",
       "      <td>ABUD34</td>\n",
       "      <td>BDRX</td>\n",
       "    </tr>\n",
       "    <tr>\n",
       "      <th>4</th>\n",
       "      <td>A1BB34</td>\n",
       "      <td>BDRX</td>\n",
       "    </tr>\n",
       "    <tr>\n",
       "      <th>5</th>\n",
       "      <td>ABTT34</td>\n",
       "      <td>BDRX</td>\n",
       "    </tr>\n",
       "    <tr>\n",
       "      <th>6</th>\n",
       "      <td>ABBV34</td>\n",
       "      <td>BDRX</td>\n",
       "    </tr>\n",
       "    <tr>\n",
       "      <th>7</th>\n",
       "      <td>ABCB4</td>\n",
       "      <td>IBRA,IDIV,IFNC,IGCT,IGCX,ITAG,SMLL</td>\n",
       "    </tr>\n",
       "    <tr>\n",
       "      <th>8</th>\n",
       "      <td>ACNB34</td>\n",
       "      <td>BDRX</td>\n",
       "    </tr>\n",
       "    <tr>\n",
       "      <th>9</th>\n",
       "      <td>ATVI34</td>\n",
       "      <td>BDRX</td>\n",
       "    </tr>\n",
       "    <tr>\n",
       "      <th>10</th>\n",
       "      <td>ADBE34</td>\n",
       "      <td>BDRX</td>\n",
       "    </tr>\n",
       "    <tr>\n",
       "      <th>11</th>\n",
       "      <td>A1AP34</td>\n",
       "      <td>BDRX</td>\n",
       "    </tr>\n",
       "    <tr>\n",
       "      <th>12</th>\n",
       "      <td>A1MD34</td>\n",
       "      <td>BDRX</td>\n",
       "    </tr>\n",
       "    <tr>\n",
       "      <th>13</th>\n",
       "      <td>A1EG34</td>\n",
       "      <td>BDRX</td>\n",
       "    </tr>\n",
       "    <tr>\n",
       "      <th>14</th>\n",
       "      <td>AERI3</td>\n",
       "      <td>GPTW,IBRA,IGCT,IGCX,IGNM,INDX,ITAG,SMLL</td>\n",
       "    </tr>\n",
       "    <tr>\n",
       "      <th>15</th>\n",
       "      <td>AESB3</td>\n",
       "      <td>IBRA,IDIV,IEEX,IGCT,IGCX,IGNM,ISEE,ITAG,SMLL,UTIL</td>\n",
       "    </tr>\n",
       "    <tr>\n",
       "      <th>16</th>\n",
       "      <td>A1ES34</td>\n",
       "      <td>BDRX</td>\n",
       "    </tr>\n",
       "    <tr>\n",
       "      <th>17</th>\n",
       "      <td>AGXY3</td>\n",
       "      <td>IGCX,IGNM,ITAG</td>\n",
       "    </tr>\n",
       "    <tr>\n",
       "      <th>18</th>\n",
       "      <td>AIRB34</td>\n",
       "      <td>BDRX</td>\n",
       "    </tr>\n",
       "    <tr>\n",
       "      <th>19</th>\n",
       "      <td>A1KA34</td>\n",
       "      <td>BDRX</td>\n",
       "    </tr>\n",
       "  </tbody>\n",
       "</table>\n",
       "</div>"
      ],
      "text/plain": [
       "    Codigo                        indices dos quais participa\n",
       "0   MMMC34                                               BDRX\n",
       "1    RRRP3       IBOV,IBRA,IBXX,IGCT,IGCX,IGNM,ITAG,IVBX,SMLL\n",
       "2    TTEN3            AGFS,IBRA,ICON,IGCT,IGCX,IGNM,ITAG,SMLL\n",
       "3   ABUD34                                               BDRX\n",
       "4   A1BB34                                               BDRX\n",
       "5   ABTT34                                               BDRX\n",
       "6   ABBV34                                               BDRX\n",
       "7    ABCB4                 IBRA,IDIV,IFNC,IGCT,IGCX,ITAG,SMLL\n",
       "8   ACNB34                                               BDRX\n",
       "9   ATVI34                                               BDRX\n",
       "10  ADBE34                                               BDRX\n",
       "11  A1AP34                                               BDRX\n",
       "12  A1MD34                                               BDRX\n",
       "13  A1EG34                                               BDRX\n",
       "14   AERI3            GPTW,IBRA,IGCT,IGCX,IGNM,INDX,ITAG,SMLL\n",
       "15   AESB3  IBRA,IDIV,IEEX,IGCT,IGCX,IGNM,ISEE,ITAG,SMLL,UTIL\n",
       "16  A1ES34                                               BDRX\n",
       "17   AGXY3                                     IGCX,IGNM,ITAG\n",
       "18  AIRB34                                               BDRX\n",
       "19  A1KA34                                               BDRX"
      ]
     },
     "execution_count": 4,
     "metadata": {},
     "output_type": "execute_result"
    }
   ],
   "source": [
    "# Retira a coluna de empresa do dataframe\n",
    "stock_based_on_index.drop('Empresa', axis=1, inplace=True)\n",
    "stock_based_on_index.head(20)"
   ]
  },
  {
   "cell_type": "markdown",
   "metadata": {
    "id": "szxp5RYnfoaq"
   },
   "source": [
    "# Selecionando os codigos dos ativos dos 5 indices com maior liquidez"
   ]
  },
  {
   "cell_type": "code",
   "execution_count": 5,
   "metadata": {},
   "outputs": [],
   "source": [
    "import operator\n",
    "dic = {}\n",
    "myList = []\n",
    "for i in stock_based_on_index['indices dos quais participa']:\n",
    "    for j in i.split(\",\"):\n",
    "        if j in dic.keys():\n",
    "            dic[j] += 1\n",
    "        else:\n",
    "            dic[j] = 1\n",
    "sorted_d = dict(sorted(dic.items(), key=operator.itemgetter(1),reverse=True))\n",
    "indexes = list(sorted_d)[0:5]\n"
   ]
  },
  {
   "cell_type": "code",
   "execution_count": 6,
   "metadata": {
    "id": "DW9_AMf6gqmq"
   },
   "outputs": [
    {
     "name": "stdout",
     "output_type": "stream",
     "text": [
      "Índices filtrados: ['BDRX', 'IGCX', 'ITAG', 'IBRA', 'IGCT']\n"
     ]
    }
   ],
   "source": [
    "print('Índices filtrados: %s' % indexes)"
   ]
  },
  {
   "cell_type": "code",
   "execution_count": 7,
   "metadata": {},
   "outputs": [
    {
     "data": {
      "text/plain": [
       "['MMMC34',\n",
       " 'ABUD34',\n",
       " 'A1BB34',\n",
       " 'ABTT34',\n",
       " 'ABBV34',\n",
       " 'ACNB34',\n",
       " 'ATVI34',\n",
       " 'ADBE34',\n",
       " 'A1AP34',\n",
       " 'A1MD34',\n",
       " 'A1EG34',\n",
       " 'A1ES34',\n",
       " 'AIRB34',\n",
       " 'A1KA34',\n",
       " 'A1LB34',\n",
       " 'A1RE34',\n",
       " 'BABA34',\n",
       " 'A1LG34',\n",
       " 'A1LN34',\n",
       " 'ALPA3',\n",
       " 'GOGL34',\n",
       " 'GOGL35',\n",
       " 'A1YX34',\n",
       " 'MOOO34',\n",
       " 'AMZO34',\n",
       " 'A2MC34',\n",
       " 'A1CR34',\n",
       " 'A1MX34',\n",
       " 'AALL34',\n",
       " 'AXPB34',\n",
       " 'T1OW34',\n",
       " 'AMGN34',\n",
       " 'A1UA34',\n",
       " 'A1PA34',\n",
       " 'A1IV34',\n",
       " 'AAPL34',\n",
       " 'A1MT34',\n",
       " 'ARMT34',\n",
       " 'ASML34',\n",
       " 'A1ZN34',\n",
       " 'T1AM34',\n",
       " 'ATTB34',\n",
       " 'A1UT34',\n",
       " 'A1TH34',\n",
       " 'A1VB34',\n",
       " 'BAHI3',\n",
       " 'BIDU34',\n",
       " 'B1SA34',\n",
       " 'BGIP3',\n",
       " 'BGIP4',\n",
       " 'BOAC34',\n",
       " 'B1CS34',\n",
       " 'BERK34',\n",
       " 'BBYY34',\n",
       " 'B2YN34',\n",
       " 'B1IL34',\n",
       " 'BIIB34',\n",
       " 'BIOM3',\n",
       " 'B1NT34',\n",
       " 'BLAK34',\n",
       " 'S2QU34',\n",
       " 'BONY34',\n",
       " 'BOEI34',\n",
       " 'BKNG34',\n",
       " 'BOXP34',\n",
       " 'B1SX34',\n",
       " 'B1PP34',\n",
       " 'BMYB34',\n",
       " 'B1TI34',\n",
       " 'AVGO34',\n",
       " 'B1AM34',\n",
       " 'C1CL34',\n",
       " 'CATP34',\n",
       " 'CEDO3',\n",
       " 'CLSC3',\n",
       " 'CHCM34',\n",
       " 'CHVX34',\n",
       " 'L1FC34',\n",
       " 'C1HI34',\n",
       " 'C1IC34',\n",
       " 'CSCO34',\n",
       " 'CTGP34',\n",
       " 'COCA34',\n",
       " 'C2OI34',\n",
       " 'COLG34',\n",
       " 'CMCS34',\n",
       " 'COPH34',\n",
       " 'C1TV34',\n",
       " 'C1GP34',\n",
       " 'COWC34',\n",
       " 'CTNM4',\n",
       " 'COTY34',\n",
       " 'C1OU34',\n",
       " 'CRDE3',\n",
       " 'C1SU34',\n",
       " 'CRIP34',\n",
       " 'CVSH34',\n",
       " 'DHER34',\n",
       " 'D1DG34',\n",
       " 'DEEC34',\n",
       " 'DEAI34',\n",
       " 'DBAG34',\n",
       " 'D1VN34',\n",
       " 'D1EX34',\n",
       " 'DEXP4',\n",
       " 'DEOP34',\n",
       " 'F1AN34',\n",
       " 'D1LR34',\n",
       " 'D1OC34',\n",
       " 'DGCO34',\n",
       " 'D1OW34',\n",
       " 'E1TN34',\n",
       " 'EBAY34',\n",
       " 'E1CO34',\n",
       " 'EAIN34',\n",
       " 'E1OG34',\n",
       " 'EQIX34',\n",
       " 'E1QN34',\n",
       " 'E1QR34',\n",
       " 'E1RI34',\n",
       " 'E1SS34',\n",
       " 'ELCI34',\n",
       " 'EUCA3',\n",
       " 'EUCA4',\n",
       " 'EXXO34',\n",
       " 'FDXB34',\n",
       " 'FESA3',\n",
       " 'F1NI34',\n",
       " 'FSLR34',\n",
       " 'FDMO34',\n",
       " 'F1TN34',\n",
       " 'FRAS3',\n",
       " 'FCXO34',\n",
       " 'GEOO34',\n",
       " 'GMCO34',\n",
       " 'GSHP3',\n",
       " 'GEPA4',\n",
       " 'GILD34',\n",
       " 'G1FI34',\n",
       " 'GSGI34',\n",
       " 'GPRO34',\n",
       " 'CGRA3',\n",
       " 'CGRA4',\n",
       " 'G1SK34',\n",
       " 'H1OG34',\n",
       " 'H1CA34',\n",
       " 'HOME34',\n",
       " 'HOND34',\n",
       " 'H1ZN34',\n",
       " 'HPQB34',\n",
       " 'H1SB34',\n",
       " 'I1LM34',\n",
       " 'ITLC34',\n",
       " 'INTU34',\n",
       " 'I1SR34',\n",
       " 'I1RM34',\n",
       " 'ITSA3',\n",
       " 'JDCO34',\n",
       " 'JNJB34',\n",
       " 'JPMC34',\n",
       " 'KMIC34',\n",
       " 'KHCB34',\n",
       " 'L1RC34',\n",
       " 'LILY34',\n",
       " 'L1YG34',\n",
       " 'LMTB34',\n",
       " 'LOWC34',\n",
       " 'L1UL34',\n",
       " 'L1MN34',\n",
       " 'MACY34',\n",
       " 'M1RO34',\n",
       " 'MSCD34',\n",
       " 'MCDC34',\n",
       " 'MDTC34',\n",
       " 'BMEB3',\n",
       " 'BMEB4',\n",
       " 'MELI34',\n",
       " 'MRCK34',\n",
       " 'M1TA34',\n",
       " 'MTIG4',\n",
       " 'METB34',\n",
       " 'M1GM34',\n",
       " 'MUTC34',\n",
       " 'MSFT34',\n",
       " 'M1UF34',\n",
       " 'M1RN34',\n",
       " 'MDLZ34',\n",
       " 'M1DB34',\n",
       " 'M1NS34',\n",
       " 'MSBR34',\n",
       " 'MOSC34',\n",
       " 'N1DA34',\n",
       " 'NETE34',\n",
       " 'NFLX34',\n",
       " 'E1DU34',\n",
       " 'N1EM34',\n",
       " 'NEXT34',\n",
       " 'NIKE34',\n",
       " 'NOKI34',\n",
       " 'N1CL34',\n",
       " 'N1VS34',\n",
       " 'N1VO34',\n",
       " 'N1UE34',\n",
       " 'NVDC34',\n",
       " 'N1XP34',\n",
       " 'OXYP34',\n",
       " 'O1KT34',\n",
       " 'ORCL34',\n",
       " 'PAGS34',\n",
       " 'P2LT34',\n",
       " 'C1BS34',\n",
       " 'PYPL34',\n",
       " 'PEPB34',\n",
       " 'PTCH34',\n",
       " 'PTNT4',\n",
       " 'PFIZ34',\n",
       " 'PGCO34',\n",
       " 'PHMO34',\n",
       " 'P1DD34',\n",
       " 'P1LD34',\n",
       " 'P1SA34',\n",
       " 'QCOM34',\n",
       " 'RAPT3',\n",
       " 'RYTT34',\n",
       " 'REGN34',\n",
       " 'RIOT34',\n",
       " 'R2BL34',\n",
       " 'R1KU34',\n",
       " 'R1CL34',\n",
       " 'SSFO34',\n",
       " 'BCSA34',\n",
       " 'SAPP34',\n",
       " 'SCHW34',\n",
       " 'S2EA34',\n",
       " 'N1OW34',\n",
       " 'S2HO34',\n",
       " 'S1BS34',\n",
       " 'SIMN34',\n",
       " 'S1LG34',\n",
       " 'S2NW34',\n",
       " 'SNEC34',\n",
       " 'SPGI34',\n",
       " 'S1PL34',\n",
       " 'S1PO34',\n",
       " 'SBUB34',\n",
       " 'S2TO34',\n",
       " 'S1YF34',\n",
       " 'TSMC34',\n",
       " 'T1TW34',\n",
       " 'T1AL34',\n",
       " 'TGTB34',\n",
       " 'T2DH34',\n",
       " 'TLNC34',\n",
       " 'TXSA34',\n",
       " 'TSLA34',\n",
       " 'T1EV34',\n",
       " 'TEXA34',\n",
       " 'TMOS34',\n",
       " 'TMCO34',\n",
       " 'T2TD34',\n",
       " 'TRPL3',\n",
       " 'RIGG34',\n",
       " 'T1RI34',\n",
       " 'T1WL34',\n",
       " 'TWTR34',\n",
       " 'U1BE34',\n",
       " 'UBSG34',\n",
       " 'ULEV34',\n",
       " 'U1AL34',\n",
       " 'UNHH34',\n",
       " 'U2ST34',\n",
       " 'UPSS34',\n",
       " 'USBC34',\n",
       " 'USSX34',\n",
       " 'VLOE34',\n",
       " 'VERZ34',\n",
       " 'VRTX34',\n",
       " 'V1IP34',\n",
       " 'VISA34',\n",
       " 'V1OD34',\n",
       " 'V1NO34',\n",
       " 'WALM34',\n",
       " 'WGBA34',\n",
       " 'DISB34',\n",
       " 'W1BD34',\n",
       " 'WFCO34',\n",
       " 'W1IX34',\n",
       " 'Z1TS34',\n",
       " 'Z1OM34']"
      ]
     },
     "execution_count": 7,
     "metadata": {},
     "output_type": "execute_result"
    }
   ],
   "source": [
    "stock_list = []\n",
    "i = 0\n",
    "while i != stock_based_on_index.shape[0]:\n",
    "    if stock_based_on_index['indices dos quais participa'][i] in indexes:\n",
    "        stock_list.append(stock_based_on_index['Codigo'][i])\n",
    "    i += 1\n",
    "stock_list"
   ]
  },
  {
   "cell_type": "markdown",
   "metadata": {
    "id": "rVGNYK74ZGkX"
   },
   "source": [
    "Agora iremos baixar as cotações das ações que separamos anteriormente"
   ]
  },
  {
   "cell_type": "code",
   "execution_count": 8,
   "metadata": {
    "id": "9hpG8dkLZGCj"
   },
   "outputs": [],
   "source": [
    "from pandas_datareader import DataReader\n",
    "from tqdm import tqdm"
   ]
  },
  {
   "cell_type": "code",
   "execution_count": 9,
   "metadata": {
    "id": "03MwOtuFZgSy"
   },
   "outputs": [],
   "source": [
    "start_date = '2012-07-01'\n",
    "final_date = '2022-07-01'"
   ]
  },
  {
   "cell_type": "code",
   "execution_count": 10,
   "metadata": {
    "id": "4QNjKPp3ZMl8"
   },
   "outputs": [
    {
     "name": "stderr",
     "output_type": "stream",
     "text": [
      "100%|████████████████████████████████████████████████████████████████████████████████| 289/289 [10:01<00:00,  2.08s/it]"
     ]
    },
    {
     "name": "stdout",
     "output_type": "stream",
     "text": [
      "Não foi possível baixar corretamente as cotações dos seguinte ativos: ['L1YG34', 'W1BD34']\n"
     ]
    },
    {
     "name": "stderr",
     "output_type": "stream",
     "text": [
      "\n"
     ]
    }
   ],
   "source": [
    "daily_quotes = pd.DataFrame()\n",
    "daily_volume = pd.DataFrame()\n",
    "symbols = []\n",
    "errors = []\n",
    "for symbol in tqdm(stock_list):\n",
    "    \n",
    "    if not symbol.endswith('.SA'):\n",
    "        symbol_sa = \"%s.SA\" % symbol\n",
    "    else:\n",
    "        symbol_sa = symbol\n",
    "        \n",
    "    try:\n",
    "        df = DataReader(symbol_sa, 'yahoo', start_date, final_date)\n",
    "\n",
    "        close_price = df[\"Adj Close\"]\n",
    "        volume = df[\"Volume\"]\n",
    "        symbols.append(symbol)\n",
    "\n",
    "        daily_quotes = pd.concat([daily_quotes, close_price], axis=1)\n",
    "        daily_volume = pd.concat([daily_volume, volume], axis=1)\n",
    "\n",
    "        daily_quotes.columns = symbols\n",
    "        daily_volume.columns = symbols\n",
    "    except:\n",
    "        errors.append(symbol)\n",
    "        \n",
    "print('Não foi possível baixar corretamente as cotações dos seguinte ativos: %s' % errors)"
   ]
  },
  {
   "cell_type": "code",
   "execution_count": 11,
   "metadata": {
    "id": "xZan63nWZ7Kj"
   },
   "outputs": [
    {
     "name": "stdout",
     "output_type": "stream",
     "text": [
      "Erros: 366604.\n",
      "Ativos com valores vazios: ['ABUD34', 'A1BB34', 'ABBV34', 'ACNB34', 'ATVI34', 'ADBE34', 'A1AP34', 'A1MD34', 'A1EG34', 'A1ES34', 'AIRB34', 'A1KA34', 'A1LB34', 'A1RE34', 'BABA34', 'A1LG34', 'A1LN34', 'GOGL34', 'GOGL35', 'A1YX34', 'MOOO34', 'A2MC34', 'A1CR34', 'A1MX34', 'AALL34', 'T1OW34', 'A1UA34', 'A1PA34', 'A1IV34', 'A1MT34', 'ASML34', 'A1ZN34', 'T1AM34', 'A1UT34', 'A1TH34', 'A1VB34', 'BIDU34', 'B1SA34', 'B1CS34', 'BERK34', 'BBYY34', 'B2YN34', 'B1IL34', 'BIIB34', 'B1NT34', 'BLAK34', 'S2QU34', 'BONY34', 'BKNG34', 'BOXP34', 'B1SX34', 'B1PP34', 'BMYB34', 'B1TI34', 'AVGO34', 'B1AM34', 'C1CL34', 'CHCM34', 'L1FC34', 'C1HI34', 'C1IC34', 'C2OI34', 'CMCS34', 'C1TV34', 'C1GP34', 'COWC34', 'COTY34', 'C1OU34', 'C1SU34', 'CRIP34', 'CVSH34', 'DHER34', 'D1DG34', 'DEEC34', 'DEAI34', 'DBAG34', 'D1VN34', 'D1EX34', 'DEXP4', 'DEOP34', 'F1AN34', 'D1LR34', 'D1OC34', 'DGCO34', 'D1OW34', 'E1TN34', 'E1CO34', 'EAIN34', 'E1OG34', 'EQIX34', 'E1QN34', 'E1QR34', 'E1RI34', 'E1SS34', 'ELCI34', 'F1NI34', 'FSLR34', 'F1TN34', 'GMCO34', 'GILD34', 'G1FI34', 'GPRO34', 'G1SK34', 'H1OG34', 'H1CA34', 'HOND34', 'H1ZN34', 'H1SB34', 'I1LM34', 'INTU34', 'I1SR34', 'I1RM34', 'JDCO34', 'KMIC34', 'KHCB34', 'L1RC34', 'LOWC34', 'L1UL34', 'L1MN34', 'MACY34', 'M1RO34', 'MDTC34', 'MELI34', 'M1TA34', 'METB34', 'M1GM34', 'MUTC34', 'M1UF34', 'M1RN34', 'MDLZ34', 'M1DB34', 'M1NS34', 'MSBR34', 'MOSC34', 'N1DA34', 'NETE34', 'NFLX34', 'E1DU34', 'N1EM34', 'NEXT34', 'NOKI34', 'N1CL34', 'N1VS34', 'N1VO34', 'N1UE34', 'NVDC34', 'N1XP34', 'OXYP34', 'O1KT34', 'PAGS34', 'P2LT34', 'C1BS34', 'PYPL34', 'PTCH34', 'PHMO34', 'P1DD34', 'P1LD34', 'P1SA34', 'QCOM34', 'RYTT34', 'REGN34', 'RIOT34', 'R2BL34', 'R1KU34', 'R1CL34', 'SSFO34', 'BCSA34', 'SAPP34', 'SCHW34', 'S2EA34', 'N1OW34', 'S2HO34', 'S1BS34', 'SIMN34', 'S1LG34', 'S2NW34', 'SNEC34', 'SPGI34', 'S1PL34', 'S1PO34', 'SBUB34', 'S2TO34', 'S1YF34', 'TSMC34', 'T1TW34', 'T1AL34', 'TGTB34', 'T2DH34', 'TLNC34', 'TXSA34', 'TSLA34', 'T1EV34', 'TEXA34', 'TMOS34', 'TMCO34', 'T2TD34', 'RIGG34', 'T1RI34', 'T1WL34', 'TWTR34', 'U1BE34', 'UBSG34', 'ULEV34', 'U1AL34', 'UNHH34', 'U2ST34', 'USBC34', 'USSX34', 'VLOE34', 'VRTX34', 'V1IP34', 'V1OD34', 'V1NO34', 'WGBA34', 'W1IX34', 'Z1TS34', 'Z1OM34']\n"
     ]
    },
    {
     "data": {
      "image/png": "[encoded data removed]",
      "text/plain": [
       "<Figure size 2880x720 with 1 Axes>"
      ]
     },
     "metadata": {
      "needs_background": "light"
     },
     "output_type": "display_data"
    }
   ],
   "source": [
    "plt.figure(figsize=(40,10))\n",
    "\n",
    "sns.heatmap(daily_quotes.isnull(),  cbar=False, cmap = 'summer')\n",
    "columns_with_na = daily_quotes.columns[daily_quotes.isna().any()].tolist()\n",
    "\n",
    "print(\"Erros: %s.\\nAtivos com valores vazios: %s\" % (np.sum(daily_quotes.isnull().sum()), columns_with_na))"
   ]
  },
  {
   "cell_type": "code",
   "execution_count": 12,
   "metadata": {
    "id": "sMRC2KAuaHgO"
   },
   "outputs": [],
   "source": [
    "valid_stocks_quotes = daily_quotes.dropna(axis=1)\n",
    "valid_stocks_volume = daily_volume.dropna(axis=1)"
   ]
  },
  {
   "cell_type": "markdown",
   "metadata": {
    "id": "g2AneNSdaONN"
   },
   "source": [
    "Separando agora somente os 30 ativos com maior liquidez"
   ]
  },
  {
   "cell_type": "code",
   "execution_count": 13,
   "metadata": {
    "id": "8hSn2WvaaX2d"
   },
   "outputs": [],
   "source": [
    "qtd_stocks = 30\n",
    "high_volume_stocks_sym = valid_stocks_volume.mean().sort_values(ascending=False).head(qtd_stocks).index.tolist()"
   ]
  },
  {
   "cell_type": "code",
   "execution_count": 14,
   "metadata": {
    "id": "CM2Cn4pJaebf"
   },
   "outputs": [
    {
     "data": {
      "text/html": [
       "<div>\n",
       "<style scoped>\n",
       "    .dataframe tbody tr th:only-of-type {\n",
       "        vertical-align: middle;\n",
       "    }\n",
       "\n",
       "    .dataframe tbody tr th {\n",
       "        vertical-align: top;\n",
       "    }\n",
       "\n",
       "    .dataframe thead th {\n",
       "        text-align: right;\n",
       "    }\n",
       "</style>\n",
       "<table border=\"1\" class=\"dataframe\">\n",
       "  <thead>\n",
       "    <tr style=\"text-align: right;\">\n",
       "      <th></th>\n",
       "      <th>AMZO34</th>\n",
       "      <th>ITSA3</th>\n",
       "      <th>FRAS3</th>\n",
       "      <th>AAPL34</th>\n",
       "      <th>MSFT34</th>\n",
       "      <th>EUCA4</th>\n",
       "      <th>DISB34</th>\n",
       "      <th>VISA34</th>\n",
       "      <th>BMEB4</th>\n",
       "      <th>HOME34</th>\n",
       "      <th>...</th>\n",
       "      <th>BOAC34</th>\n",
       "      <th>MRCK34</th>\n",
       "      <th>WALM34</th>\n",
       "      <th>PGCO34</th>\n",
       "      <th>PEPB34</th>\n",
       "      <th>NIKE34</th>\n",
       "      <th>ITLC34</th>\n",
       "      <th>RAPT3</th>\n",
       "      <th>ALPA3</th>\n",
       "      <th>MCDC34</th>\n",
       "    </tr>\n",
       "  </thead>\n",
       "  <tbody>\n",
       "    <tr>\n",
       "      <th>2012-07-02</th>\n",
       "      <td>0.146417</td>\n",
       "      <td>4.079167</td>\n",
       "      <td>6.895243</td>\n",
       "      <td>3.580489</td>\n",
       "      <td>0.205528</td>\n",
       "      <td>5.395180</td>\n",
       "      <td>2.176876</td>\n",
       "      <td>0.703354</td>\n",
       "      <td>0.920893</td>\n",
       "      <td>2.816435</td>\n",
       "      <td>...</td>\n",
       "      <td>3.399663</td>\n",
       "      <td>6.897473</td>\n",
       "      <td>5.212872</td>\n",
       "      <td>1.694645</td>\n",
       "      <td>7.468630</td>\n",
       "      <td>1.479987</td>\n",
       "      <td>3.931007</td>\n",
       "      <td>5.374439</td>\n",
       "      <td>7.012279</td>\n",
       "      <td>4.751341</td>\n",
       "    </tr>\n",
       "    <tr>\n",
       "      <th>2012-07-03</th>\n",
       "      <td>0.146417</td>\n",
       "      <td>4.152383</td>\n",
       "      <td>6.895243</td>\n",
       "      <td>3.580489</td>\n",
       "      <td>0.205528</td>\n",
       "      <td>5.347294</td>\n",
       "      <td>2.176876</td>\n",
       "      <td>0.703354</td>\n",
       "      <td>0.915379</td>\n",
       "      <td>2.816435</td>\n",
       "      <td>...</td>\n",
       "      <td>3.399663</td>\n",
       "      <td>6.897473</td>\n",
       "      <td>5.212872</td>\n",
       "      <td>1.694645</td>\n",
       "      <td>7.468630</td>\n",
       "      <td>1.479987</td>\n",
       "      <td>3.931007</td>\n",
       "      <td>5.038537</td>\n",
       "      <td>7.228040</td>\n",
       "      <td>4.751341</td>\n",
       "    </tr>\n",
       "    <tr>\n",
       "      <th>2012-07-04</th>\n",
       "      <td>0.146417</td>\n",
       "      <td>4.183761</td>\n",
       "      <td>6.895243</td>\n",
       "      <td>3.580489</td>\n",
       "      <td>0.212209</td>\n",
       "      <td>5.307389</td>\n",
       "      <td>2.176876</td>\n",
       "      <td>0.703354</td>\n",
       "      <td>0.896473</td>\n",
       "      <td>2.816435</td>\n",
       "      <td>...</td>\n",
       "      <td>3.399663</td>\n",
       "      <td>7.762854</td>\n",
       "      <td>5.212872</td>\n",
       "      <td>1.687883</td>\n",
       "      <td>7.468630</td>\n",
       "      <td>1.479987</td>\n",
       "      <td>3.964387</td>\n",
       "      <td>5.044757</td>\n",
       "      <td>7.465377</td>\n",
       "      <td>4.644052</td>\n",
       "    </tr>\n",
       "    <tr>\n",
       "      <th>2012-07-05</th>\n",
       "      <td>0.146417</td>\n",
       "      <td>4.183761</td>\n",
       "      <td>6.895243</td>\n",
       "      <td>3.768054</td>\n",
       "      <td>0.212209</td>\n",
       "      <td>5.203635</td>\n",
       "      <td>2.176876</td>\n",
       "      <td>0.703354</td>\n",
       "      <td>0.898836</td>\n",
       "      <td>2.816435</td>\n",
       "      <td>...</td>\n",
       "      <td>3.399663</td>\n",
       "      <td>7.762854</td>\n",
       "      <td>5.212872</td>\n",
       "      <td>1.687883</td>\n",
       "      <td>7.468630</td>\n",
       "      <td>1.479987</td>\n",
       "      <td>3.964387</td>\n",
       "      <td>5.187828</td>\n",
       "      <td>7.335922</td>\n",
       "      <td>4.649163</td>\n",
       "    </tr>\n",
       "    <tr>\n",
       "      <th>2012-07-06</th>\n",
       "      <td>0.146417</td>\n",
       "      <td>4.044303</td>\n",
       "      <td>6.895243</td>\n",
       "      <td>3.710107</td>\n",
       "      <td>0.207257</td>\n",
       "      <td>5.227579</td>\n",
       "      <td>2.176876</td>\n",
       "      <td>0.703354</td>\n",
       "      <td>0.898836</td>\n",
       "      <td>2.816435</td>\n",
       "      <td>...</td>\n",
       "      <td>3.399663</td>\n",
       "      <td>7.762854</td>\n",
       "      <td>5.212872</td>\n",
       "      <td>1.687883</td>\n",
       "      <td>7.468630</td>\n",
       "      <td>1.479987</td>\n",
       "      <td>3.964387</td>\n",
       "      <td>5.038537</td>\n",
       "      <td>7.335922</td>\n",
       "      <td>4.649163</td>\n",
       "    </tr>\n",
       "    <tr>\n",
       "      <th>...</th>\n",
       "      <td>...</td>\n",
       "      <td>...</td>\n",
       "      <td>...</td>\n",
       "      <td>...</td>\n",
       "      <td>...</td>\n",
       "      <td>...</td>\n",
       "      <td>...</td>\n",
       "      <td>...</td>\n",
       "      <td>...</td>\n",
       "      <td>...</td>\n",
       "      <td>...</td>\n",
       "      <td>...</td>\n",
       "      <td>...</td>\n",
       "      <td>...</td>\n",
       "      <td>...</td>\n",
       "      <td>...</td>\n",
       "      <td>...</td>\n",
       "      <td>...</td>\n",
       "      <td>...</td>\n",
       "      <td>...</td>\n",
       "      <td>...</td>\n",
       "    </tr>\n",
       "    <tr>\n",
       "      <th>2022-06-27</th>\n",
       "      <td>3.780000</td>\n",
       "      <td>9.060000</td>\n",
       "      <td>9.842046</td>\n",
       "      <td>73.809998</td>\n",
       "      <td>57.560001</td>\n",
       "      <td>8.090000</td>\n",
       "      <td>33.520000</td>\n",
       "      <td>53.119999</td>\n",
       "      <td>9.970000</td>\n",
       "      <td>52.520000</td>\n",
       "      <td>...</td>\n",
       "      <td>42.020000</td>\n",
       "      <td>61.509998</td>\n",
       "      <td>40.419998</td>\n",
       "      <td>53.330002</td>\n",
       "      <td>57.590000</td>\n",
       "      <td>57.490002</td>\n",
       "      <td>33.560001</td>\n",
       "      <td>8.310000</td>\n",
       "      <td>17.850000</td>\n",
       "      <td>64.169998</td>\n",
       "    </tr>\n",
       "    <tr>\n",
       "      <th>2022-06-28</th>\n",
       "      <td>3.580000</td>\n",
       "      <td>9.030000</td>\n",
       "      <td>9.762754</td>\n",
       "      <td>72.330002</td>\n",
       "      <td>56.240002</td>\n",
       "      <td>8.230000</td>\n",
       "      <td>33.500000</td>\n",
       "      <td>52.180000</td>\n",
       "      <td>9.950000</td>\n",
       "      <td>50.880001</td>\n",
       "      <td>...</td>\n",
       "      <td>42.400002</td>\n",
       "      <td>60.660000</td>\n",
       "      <td>40.230000</td>\n",
       "      <td>53.139999</td>\n",
       "      <td>57.639999</td>\n",
       "      <td>54.230000</td>\n",
       "      <td>33.169998</td>\n",
       "      <td>8.290000</td>\n",
       "      <td>17.850000</td>\n",
       "      <td>63.930000</td>\n",
       "    </tr>\n",
       "    <tr>\n",
       "      <th>2022-06-29</th>\n",
       "      <td>3.610000</td>\n",
       "      <td>8.930000</td>\n",
       "      <td>9.673552</td>\n",
       "      <td>72.150002</td>\n",
       "      <td>56.139999</td>\n",
       "      <td>8.130000</td>\n",
       "      <td>32.990002</td>\n",
       "      <td>51.650002</td>\n",
       "      <td>9.990000</td>\n",
       "      <td>50.689999</td>\n",
       "      <td>...</td>\n",
       "      <td>41.250000</td>\n",
       "      <td>59.860001</td>\n",
       "      <td>39.400002</td>\n",
       "      <td>52.630001</td>\n",
       "      <td>57.580002</td>\n",
       "      <td>53.529999</td>\n",
       "      <td>32.200001</td>\n",
       "      <td>8.480000</td>\n",
       "      <td>17.360001</td>\n",
       "      <td>64.129997</td>\n",
       "    </tr>\n",
       "    <tr>\n",
       "      <th>2022-06-30</th>\n",
       "      <td>3.540000</td>\n",
       "      <td>8.860000</td>\n",
       "      <td>9.713197</td>\n",
       "      <td>71.279999</td>\n",
       "      <td>55.820000</td>\n",
       "      <td>7.960000</td>\n",
       "      <td>33.049999</td>\n",
       "      <td>51.389999</td>\n",
       "      <td>9.950000</td>\n",
       "      <td>51.180000</td>\n",
       "      <td>...</td>\n",
       "      <td>40.580002</td>\n",
       "      <td>59.400002</td>\n",
       "      <td>39.650002</td>\n",
       "      <td>53.610001</td>\n",
       "      <td>58.020000</td>\n",
       "      <td>53.790001</td>\n",
       "      <td>32.310001</td>\n",
       "      <td>8.050000</td>\n",
       "      <td>17.400000</td>\n",
       "      <td>63.830002</td>\n",
       "    </tr>\n",
       "    <tr>\n",
       "      <th>2022-07-01</th>\n",
       "      <td>3.690000</td>\n",
       "      <td>8.740000</td>\n",
       "      <td>9.713197</td>\n",
       "      <td>73.830002</td>\n",
       "      <td>57.119999</td>\n",
       "      <td>7.950000</td>\n",
       "      <td>34.310001</td>\n",
       "      <td>53.000000</td>\n",
       "      <td>10.000000</td>\n",
       "      <td>52.970001</td>\n",
       "      <td>...</td>\n",
       "      <td>41.880001</td>\n",
       "      <td>61.599998</td>\n",
       "      <td>40.480000</td>\n",
       "      <td>55.360001</td>\n",
       "      <td>59.880001</td>\n",
       "      <td>54.099998</td>\n",
       "      <td>32.209999</td>\n",
       "      <td>8.010000</td>\n",
       "      <td>16.809999</td>\n",
       "      <td>67.360001</td>\n",
       "    </tr>\n",
       "  </tbody>\n",
       "</table>\n",
       "<p>2481 rows × 30 columns</p>\n",
       "</div>"
      ],
      "text/plain": [
       "              AMZO34     ITSA3     FRAS3     AAPL34     MSFT34     EUCA4  \\\n",
       "2012-07-02  0.146417  4.079167  6.895243   3.580489   0.205528  5.395180   \n",
       "2012-07-03  0.146417  4.152383  6.895243   3.580489   0.205528  5.347294   \n",
       "2012-07-04  0.146417  4.183761  6.895243   3.580489   0.212209  5.307389   \n",
       "2012-07-05  0.146417  4.183761  6.895243   3.768054   0.212209  5.203635   \n",
       "2012-07-06  0.146417  4.044303  6.895243   3.710107   0.207257  5.227579   \n",
       "...              ...       ...       ...        ...        ...       ...   \n",
       "2022-06-27  3.780000  9.060000  9.842046  73.809998  57.560001  8.090000   \n",
       "2022-06-28  3.580000  9.030000  9.762754  72.330002  56.240002  8.230000   \n",
       "2022-06-29  3.610000  8.930000  9.673552  72.150002  56.139999  8.130000   \n",
       "2022-06-30  3.540000  8.860000  9.713197  71.279999  55.820000  7.960000   \n",
       "2022-07-01  3.690000  8.740000  9.713197  73.830002  57.119999  7.950000   \n",
       "\n",
       "               DISB34     VISA34      BMEB4     HOME34  ...     BOAC34  \\\n",
       "2012-07-02   2.176876   0.703354   0.920893   2.816435  ...   3.399663   \n",
       "2012-07-03   2.176876   0.703354   0.915379   2.816435  ...   3.399663   \n",
       "2012-07-04   2.176876   0.703354   0.896473   2.816435  ...   3.399663   \n",
       "2012-07-05   2.176876   0.703354   0.898836   2.816435  ...   3.399663   \n",
       "2012-07-06   2.176876   0.703354   0.898836   2.816435  ...   3.399663   \n",
       "...               ...        ...        ...        ...  ...        ...   \n",
       "2022-06-27  33.520000  53.119999   9.970000  52.520000  ...  42.020000   \n",
       "2022-06-28  33.500000  52.180000   9.950000  50.880001  ...  42.400002   \n",
       "2022-06-29  32.990002  51.650002   9.990000  50.689999  ...  41.250000   \n",
       "2022-06-30  33.049999  51.389999   9.950000  51.180000  ...  40.580002   \n",
       "2022-07-01  34.310001  53.000000  10.000000  52.970001  ...  41.880001   \n",
       "\n",
       "               MRCK34     WALM34     PGCO34     PEPB34     NIKE34     ITLC34  \\\n",
       "2012-07-02   6.897473   5.212872   1.694645   7.468630   1.479987   3.931007   \n",
       "2012-07-03   6.897473   5.212872   1.694645   7.468630   1.479987   3.931007   \n",
       "2012-07-04   7.762854   5.212872   1.687883   7.468630   1.479987   3.964387   \n",
       "2012-07-05   7.762854   5.212872   1.687883   7.468630   1.479987   3.964387   \n",
       "2012-07-06   7.762854   5.212872   1.687883   7.468630   1.479987   3.964387   \n",
       "...               ...        ...        ...        ...        ...        ...   \n",
       "2022-06-27  61.509998  40.419998  53.330002  57.590000  57.490002  33.560001   \n",
       "2022-06-28  60.660000  40.230000  53.139999  57.639999  54.230000  33.169998   \n",
       "2022-06-29  59.860001  39.400002  52.630001  57.580002  53.529999  32.200001   \n",
       "2022-06-30  59.400002  39.650002  53.610001  58.020000  53.790001  32.310001   \n",
       "2022-07-01  61.599998  40.480000  55.360001  59.880001  54.099998  32.209999   \n",
       "\n",
       "               RAPT3      ALPA3     MCDC34  \n",
       "2012-07-02  5.374439   7.012279   4.751341  \n",
       "2012-07-03  5.038537   7.228040   4.751341  \n",
       "2012-07-04  5.044757   7.465377   4.644052  \n",
       "2012-07-05  5.187828   7.335922   4.649163  \n",
       "2012-07-06  5.038537   7.335922   4.649163  \n",
       "...              ...        ...        ...  \n",
       "2022-06-27  8.310000  17.850000  64.169998  \n",
       "2022-06-28  8.290000  17.850000  63.930000  \n",
       "2022-06-29  8.480000  17.360001  64.129997  \n",
       "2022-06-30  8.050000  17.400000  63.830002  \n",
       "2022-07-01  8.010000  16.809999  67.360001  \n",
       "\n",
       "[2481 rows x 30 columns]"
      ]
     },
     "execution_count": 14,
     "metadata": {},
     "output_type": "execute_result"
    }
   ],
   "source": [
    "stock_quotes = valid_stocks_quotes[high_volume_stocks_sym].copy()\n",
    "stock_quotes"
   ]
  },
  {
   "cell_type": "code",
   "execution_count": 15,
   "metadata": {
    "id": "i_lpb4bxagMa"
   },
   "outputs": [
    {
     "name": "stdout",
     "output_type": "stream",
     "text": [
      "Os 30 ativos mais líquidos:\n",
      "['AMZO34', 'ITSA3', 'FRAS3', 'AAPL34', 'MSFT34', 'EUCA4', 'DISB34', 'VISA34', 'BMEB4', 'HOME34', 'JNJB34', 'MSCD34', 'JPMC34', 'PFIZ34', 'CATP34', 'PTNT4', 'CTNM4', 'COCA34', 'BIOM3', 'CGRA4', 'BOAC34', 'MRCK34', 'WALM34', 'PGCO34', 'PEPB34', 'NIKE34', 'ITLC34', 'RAPT3', 'ALPA3', 'MCDC34']\n"
     ]
    }
   ],
   "source": [
    "print(\"Os %s ativos mais líquidos:\\n%s\" % (qtd_stocks, stock_quotes.columns.tolist()))"
   ]
  },
  {
   "cell_type": "markdown",
   "metadata": {
    "id": "1dhNMdtaXUJ5"
   },
   "source": [
    "### Questão 2: "
   ]
  },
  {
   "cell_type": "code",
   "execution_count": 16,
   "metadata": {
    "id": "xFgdmRQ3XUJ5"
   },
   "outputs": [],
   "source": [
    "from datetime import datetime\n",
    "\n",
    "initial_data_train = stock_quotes.index.min()\n",
    "final_date_train = datetime(year=2015, month=7, day=1)\n",
    "\n",
    "train_stocks = stock_quotes[(stock_quotes.index >= initial_data_train) & (stock_quotes.index <= final_date_train)].copy()"
   ]
  },
  {
   "cell_type": "code",
   "execution_count": 18,
   "metadata": {},
   "outputs": [],
   "source": [
    "initial_data_test = datetime(year=2015, month=7, day=1) \n",
    "final_date_test = stock_quotes.index.max()\n",
    "\n",
    "test_stocks = stock_quotes[(stock_quotes.index >= initial_data_test) & (stock_quotes.index <= final_date_test)].copy()"
   ]
  },
  {
   "cell_type": "markdown",
   "metadata": {
    "id": "JGf0xcNxXUJ6"
   },
   "source": [
    "### Questão 3: "
   ]
  },
  {
   "cell_type": "code",
   "execution_count": 76,
   "metadata": {
    "id": "VIIsUMJAXUJ6"
   },
   "outputs": [],
   "source": [
    "from sklearn.cluster import KMeans\n",
    "from sklearn.preprocessing import StandardScaler, MinMaxScaler\n",
    "from sklearn.metrics import silhouette_score\n",
    "import warnings\n",
    "warnings.filterwarnings('ignore')\n",
    "import random\n",
    "\n",
    "train_return_pct = 100*train_stocks.pct_change()"
   ]
  },
  {
   "cell_type": "code",
   "execution_count": 77,
   "metadata": {},
   "outputs": [],
   "source": [
    "stocks_sym = train_return_pct.columns\n",
    "X = np.array([[np.std(train_return_pct[st]), np.mean(train_return_pct[st])] for st in stocks_sym])"
   ]
  },
  {
   "cell_type": "code",
   "execution_count": 78,
   "metadata": {},
   "outputs": [],
   "source": [
    "def elbow_analysis(X, type_dataset):\n",
    "    inertias_X = []\n",
    "\n",
    "    for i in range(1, 30):\n",
    "        kmeans = KMeans(n_clusters=i, init='k-means++', max_iter=300, n_init=10, random_state=0)\n",
    "        kmeans.fit(X)\n",
    "        inertias_X.append(kmeans.inertia_)\n",
    "    \n",
    "    return inertias_X\n",
    "\n",
    "    plt.plot(range(1, 30), inertias_X)\n",
    "    plt.title('Análise de Elbow %s' % type_dataset)\n",
    "    plt.xlabel('Número de clusters')\n",
    "    plt.ylabel('WCSS')\n",
    "    plt.show()"
   ]
  },
  {
   "cell_type": "code",
   "execution_count": 79,
   "metadata": {},
   "outputs": [],
   "source": [
    "def cluster_analysis(X, num_clusters, type_dataset='', plot=True):\n",
    "\n",
    "    kmeans = KMeans(n_clusters=num_clusters, random_state=0).fit(X)\n",
    "    y_predict = kmeans.predict(X)\n",
    "\n",
    "    centers = kmeans.cluster_centers_\n",
    "    \n",
    "    if(plot):\n",
    "        plt.scatter(X[:, 0], X[:, 1], c=y_predict)\n",
    "        print(\"Silhoutte score: %s\"% silhouette_score(X, y_predict))\n",
    "        plt.scatter(centers[:, 0], centers[:, 1], c='black', s=150, alpha=0.2)\n",
    "        plt.title('Clusterização valores %s' % type_dataset)\n",
    "        plt.show()\n",
    "    \n",
    "    return kmeans, y_predict\n",
    "\n"
   ]
  },
  {
   "cell_type": "code",
   "execution_count": 80,
   "metadata": {},
   "outputs": [],
   "source": [
    "X_std = StandardScaler().fit_transform(X)\n",
    "\n",
    "X_minmax = MinMaxScaler().fit_transform(X)\n",
    "\n",
    "datasets = {\n",
    "    'Sem normalização': X,\n",
    "    'StandardScaler': X_std,\n",
    "    'MinMaxScaler': X_minmax\n",
    "}\n"
   ]
  },
  {
   "cell_type": "code",
   "execution_count": 81,
   "metadata": {},
   "outputs": [],
   "source": [
    "\n",
    "for key, dataset in datasets.items():\n",
    "    elbow_analysis(dataset, key)\n"
   ]
  },
  {
   "cell_type": "code",
   "execution_count": 82,
   "metadata": {},
   "outputs": [
    {
     "name": "stdout",
     "output_type": "stream",
     "text": [
      "Silhoutte score: 0.5839392228549389\n"
     ]
    },
    {
     "data": {
      "image/png": "[encoded data removed]",
      "text/plain": [
       "<Figure size 432x288 with 1 Axes>"
      ]
     },
     "metadata": {
      "needs_background": "light"
     },
     "output_type": "display_data"
    },
    {
     "name": "stdout",
     "output_type": "stream",
     "text": [
      "Silhoutte score: 0.4212855180897982\n"
     ]
    },
    {
     "data": {
      "image/png": "[encoded data removed]",
      "text/plain": [
       "<Figure size 432x288 with 1 Axes>"
      ]
     },
     "metadata": {
      "needs_background": "light"
     },
     "output_type": "display_data"
    },
    {
     "name": "stdout",
     "output_type": "stream",
     "text": [
      "Silhoutte score: 0.4113809774751133\n"
     ]
    },
    {
     "data": {
      "image/png": "[encoded data removed]",
      "text/plain": [
       "<Figure size 432x288 with 1 Axes>"
      ]
     },
     "metadata": {
      "needs_background": "light"
     },
     "output_type": "display_data"
    }
   ],
   "source": [
    "for key, dataset in datasets.items():\n",
    "    cluster_analysis(dataset, 3, key)\n",
    "\n"
   ]
  },
  {
   "cell_type": "code",
   "execution_count": 83,
   "metadata": {},
   "outputs": [],
   "source": [
    "\n",
    "\n",
    "kmeans, y_predict = cluster_analysis(X, 3, plot=False)\n",
    "\n"
   ]
  },
  {
   "cell_type": "code",
   "execution_count": 84,
   "metadata": {},
   "outputs": [],
   "source": [
    "bests = []\n",
    "for i in range(y_predict.max() + 1):\n",
    "    stocks_on_cluster_i = train_return_pct[train_return_pct.columns[np.where(y_predict==i)[0]]]\n",
    "    \n",
    "    ind = stocks_on_cluster_i.mean() / stocks_on_cluster_i.std()\n",
    "    bests.append(ind[ind == np.max(ind)].index.tolist()[0])"
   ]
  },
  {
   "cell_type": "code",
   "execution_count": 85,
   "metadata": {},
   "outputs": [
    {
     "name": "stdout",
     "output_type": "stream",
     "text": [
      "Os melhores ativos de cada cluster: ['MSFT34', 'MSCD34', 'NIKE34']\n"
     ]
    }
   ],
   "source": [
    "\n",
    "\n",
    "print('Os melhores ativos de cada cluster: %s' % bests)\n",
    "\n"
   ]
  },
  {
   "cell_type": "code",
   "execution_count": 86,
   "metadata": {},
   "outputs": [
    {
     "data": {
      "image/png": "[encoded data removed]",
      "text/plain": [
       "<Figure size 432x288 with 1 Axes>"
      ]
     },
     "metadata": {
      "needs_background": "light"
     },
     "output_type": "display_data"
    }
   ],
   "source": [
    "plt.scatter(X[:, 0], X[:, 1], c=y_predict)\n",
    "stocks = train_return_pct.columns\n",
    "\n",
    "for best in bests:\n",
    "    best_std_return = X[stocks == best]\n",
    "    plt.text(best_std_return[0][0], best_std_return[0][1], best, fontsize=15)"
   ]
  },
  {
   "cell_type": "code",
   "execution_count": 98,
   "metadata": {},
   "outputs": [
    {
     "name": "stderr",
     "output_type": "stream",
     "text": [
      "100%|█████████████████████████████████████████████████████████████████████████████| 1000/1000 [00:01<00:00, 913.75it/s]\n"
     ]
    }
   ],
   "source": [
    "\n",
    "\n",
    "def portfolios(ret,ports):\n",
    "    retp=[]\n",
    "    risp=[]\n",
    "    C=ret.cov()\n",
    "    MU=ret.mean()\n",
    "    SIG=ret.std()\n",
    "    N=len(ret.columns)\n",
    "    for i in tqdm(range(ports)):\n",
    "        q = [random.randint(0,10000) for i in range(1,N+1)]\n",
    "        s = sum(q)\n",
    "        q = [ i/s for i in q ]\n",
    "\n",
    "        retp.append(np.dot(pd.DataFrame(q).transpose(),MU)[0])\n",
    "        risp.append(np.sqrt(np.dot(np.dot(pd.DataFrame(q).transpose(),C),pd.DataFrame(q)))[0][0])\n",
    "    return retp, risp, SIG, MU\n",
    "    \n",
    "retp, risp, SIG, MU=portfolios(train_return_pct[bests],1000)\n",
    "\n"
   ]
  },
  {
   "cell_type": "code",
   "execution_count": 101,
   "metadata": {
    "scrolled": true
   },
   "outputs": [
    {
     "data": {
      "text/plain": [
       "Text(0.5, 1.0, '1000 Portifolios')"
      ]
     },
     "execution_count": 101,
     "metadata": {},
     "output_type": "execute_result"
    },
    {
     "data": {
      "image/png": "[encoded data removed]",
      "text/plain": [
       "<Figure size 1440x360 with 1 Axes>"
      ]
     },
     "metadata": {
      "needs_background": "light"
     },
     "output_type": "display_data"
    }
   ],
   "source": [
    "fig = plt.subplots(figsize=(20,5))\n",
    "\n",
    "ax1=plt.subplot(1,1, 1)     \n",
    "for p in range(0,len(retp)):\n",
    "    ax1.plot(risp[p], retp[p], 'g*', markersize=5.0)  \n",
    "    #ax1.text(100*(SIG[p]+0.001), 100*MU[p],df.columns[p], fontsize=8)\n",
    "\n",
    "for p in range(0,len(SIG)):\n",
    "    ax1.plot(SIG[p], MU[p], 'b*', markersize=15.0) \n",
    "    ax1.text(SIG[p]+0.01, MU[p],bests[p]+str(p+1) , fontsize=16)\n",
    "\n",
    "ax1.set_ylabel(\"Retorno do Capital [%]\",fontsize=20)\n",
    "ax1.set_xlabel(\"Risco do Capital [%]\",fontsize=20)\n",
    "ax1.set_title(str(len(retp))+\" Portifolios\",fontsize=25)"
   ]
  },
  {
   "cell_type": "code",
   "execution_count": 102,
   "metadata": {},
   "outputs": [
    {
     "name": "stderr",
     "output_type": "stream",
     "text": [
      "100%|██████████████████████████████████████████████████████████████████████████████| 750/750 [00:00<00:00, 1052.49it/s]\n"
     ]
    }
   ],
   "source": [
    "\n",
    "\n",
    "def TPM_Fronteira(ret,N):\n",
    "    C=ret.cov()\n",
    "    MU=ret.mean()\n",
    "    ONE=np.ones(len(ret.columns))\n",
    "    a=np.dot(pd.DataFrame(MU).transpose(),np.dot(np.linalg.inv(C),pd.DataFrame(MU)))\n",
    "    b=np.dot(pd.DataFrame(ONE).transpose(),np.dot(np.linalg.inv(C),pd.DataFrame(MU)))\n",
    "    c=np.dot(pd.DataFrame(MU).transpose(),np.dot(np.linalg.inv(C),pd.DataFrame(ONE)))\n",
    "    d=np.dot(pd.DataFrame(ONE).transpose(),np.dot(np.linalg.inv(C),pd.DataFrame(ONE)))\n",
    "    target_mus=np.arange(-0.5,1.0,0.002)\n",
    "    risk_at_target_mus=np.zeros(len(target_mus))\n",
    "    for i in tqdm(range(0, len(target_mus))):\n",
    "        target_mu=target_mus[i]\n",
    "        v1=np.linalg.det([[target_mu,b[0][0]],[1,d[0][0]]])*np.dot(np.linalg.inv(C),pd.DataFrame(MU))\n",
    "        v2=np.linalg.det([[a[0][0],target_mu],[c[0][0],1]])*np.dot(np.linalg.inv(C),pd.DataFrame(ONE))\n",
    "        v3=np.linalg.det([[a[0][0],b[0][0]],[c[0][0],d[0][0]]])\n",
    "        opt_q=(v1+v2)/v3\n",
    "        risk_at_target_mus[i]=(np.dot(np.dot(pd.DataFrame(opt_q).transpose(),C),pd.DataFrame(opt_q)))**0.5\n",
    "    return risk_at_target_mus, target_mus\n",
    "\n",
    "risk_at_target_mus, target_mus = TPM_Fronteira(train_return_pct[bests],1000)\n",
    "\n"
   ]
  },
  {
   "cell_type": "code",
   "execution_count": 95,
   "metadata": {},
   "outputs": [
    {
     "data": {
      "text/plain": [
       "Text(0.5, 0, 'Risco do Capital [%]')"
      ]
     },
     "execution_count": 95,
     "metadata": {},
     "output_type": "execute_result"
    },
    {
     "data": {
      "image/png": "[encoded data removed]",
      "text/plain": [
       "<Figure size 1440x360 with 1 Axes>"
      ]
     },
     "metadata": {
      "needs_background": "light"
     },
     "output_type": "display_data"
    }
   ],
   "source": [
    "\n",
    "\n",
    "fig = plt.subplots(figsize=(20,5))\n",
    "for p in range(0,len(retp)):\n",
    "    plt.plot(risp[p], retp[p], 'g*', markersize=5.0)  \n",
    "plt.axis([-0.5,np.max(SIG)+0.05,np.min(MU)-0.01,np.max(MU)+.01])\n",
    "plt.axvline(x= 0, color= 'k',linestyle='dashed',linewidth=4)\n",
    "for p in range(0,len(SIG)):\n",
    "    plt.plot(SIG[p], MU[p], 'y*', markersize=15.0) \n",
    "    plt.text(SIG[p]+0.01, MU[p],bests[p]+str(p+1) , fontsize=16)\n",
    "\n",
    "plt.plot(risk_at_target_mus,target_mus,'b*')\n",
    "plt.title('Teoria Moderna do Portfólio - Markowitz (1952),')\n",
    "plt.ylabel('Retorno do Capital [%]')\n",
    "plt.xlabel('Risco do Capital [%]')\n",
    "\n"
   ]
  },
  {
   "cell_type": "markdown",
   "metadata": {
    "id": "6r1QtybaXUJ7"
   },
   "source": [
    "### Questão 4: "
   ]
  },
  {
   "cell_type": "code",
   "execution_count": null,
   "metadata": {
    "id": "dZQopJtcXUJ7"
   },
   "outputs": [],
   "source": []
  },
  {
   "cell_type": "markdown",
   "metadata": {
    "id": "sq-tfiE2XUJ8"
   },
   "source": [
    "### Questão 5: "
   ]
  },
  {
   "cell_type": "code",
   "execution_count": null,
   "metadata": {
    "id": "YlwqDmRpXUJ8"
   },
   "outputs": [],
   "source": []
  },
  {
   "cell_type": "markdown",
   "metadata": {
    "id": "90U7Yu_iXUJ8"
   },
   "source": [
    "### Questão 6: "
   ]
  },
  {
   "cell_type": "code",
   "execution_count": null,
   "metadata": {
    "id": "_7cDqaj7XUJ9"
   },
   "outputs": [],
   "source": []
  }
 ],
 "metadata": {
  "colab": {
   "name": "Primeira Atividade Prática Avaliativa.ipynb",
   "provenance": []
  },
  "kernelspec": {
   "display_name": "Python 3 (ipykernel)",
   "language": "python",
   "name": "python3"
  },
  "language_info": {
   "codemirror_mode": {
    "name": "ipython",
    "version": 3
   },
   "file_extension": ".py",
   "mimetype": "text/x-python",
   "name": "python",
   "nbconvert_exporter": "python",
   "pygments_lexer": "ipython3",
   "version": "3.9.12"
  }
 },
 "nbformat": 4,
 "nbformat_minor": 1
}
